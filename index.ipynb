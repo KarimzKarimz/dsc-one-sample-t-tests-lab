{
 "cells": [
  {
   "cell_type": "markdown",
   "metadata": {},
   "source": [
    "# One Sample T-Test - Lab\n",
    "\n",
    "## Introduction\n",
    "Just as you previously used the t-distribution to provide confidence intervals for estimating the population mean, you can also use similar methods to test whether two populations are different, statistically speaking. To do this, you can use a t-test.\n",
    "\n",
    "## Objectives\n",
    "You will be able to:\n",
    "\n",
    "* Perform a one sample t-test and make conclusions about an experiment based on the results\n",
    "\n",
    "### Exercise 1: \n",
    "\n",
    "Create a function in Python `one_sample_ttest(sample, popmean, alpha)` that will take in sample data (an array of observations), the population mean and the alpha value to calculate and print out the t-statistic, critical t-value, and p-value for the sample and identify if the results are significant or not. The function should also create a visualization using `seaborn` of the distribution to check for normality."
   ]
  },
  {
   "cell_type": "code",
   "execution_count": 2,
   "metadata": {},
   "outputs": [],
   "source": [
    "import numpy as np\n",
    "import scipy.stats as stats\n",
    "import seaborn as sns\n",
    "import matplotlib.pyplot as plt\n",
    "\n",
    "def one_sample_ttest(sample, popmean, alpha):\n",
    "\n",
    "    sample = np.array(sample)\n",
    "\n",
    "    # Visualize sample distribution for normality \n",
    "    plt.figure(figsize=(12, 5))\n",
    "\n",
    "    # Histogram with KDE\n",
    "    plt.subplot(1, 2, 1)\n",
    "    sns.histplot(sample, kde=True, color='skyblue')\n",
    "    plt.axvline(np.mean(sample), color='red', linestyle='--', label='Sample Mean')\n",
    "    plt.axvline(popmean, color='green', linestyle='-', label='Population Mean')\n",
    "    plt.title(\"Sample Distribution\")\n",
    "    plt.xlabel(\"Sample Values\")\n",
    "    plt.ylabel(\"Frequency\")\n",
    "    plt.legend()\n",
    "    \n",
    "    # Population mean \n",
    "    \n",
    "    # Sample mean (x̄) using NumPy mean()\n",
    "    x_bar = np.mean(sample)\n",
    "    # Sample Standard Deviation (sigma) using Numpy\n",
    "    sigma = np.std(sample, ddof=1)\n",
    "    # Degrees of freedom\n",
    "    df = len(sample) - 1\n",
    "    # Calculate the critical t-value\n",
    "    t_critical = stats.t.ppf(1 - alpha/2, df)\n",
    "    # Calculate the t-value and p-value      \n",
    "    t_statistic, p_value = stats.ttest_1samp(sample, popmean)\n",
    "\n",
    "    # Print summary\n",
    "    print(\"\\nOne-sample t-test Summary:\")\n",
    "    print(f\"Sample Mean         = {x_bar:.4f}\")\n",
    "    print(f\"Sample Std Dev      = {sigma:.4f}\")\n",
    "    print(f\"Population Mean     = {popmean}\")\n",
    "    print(f\"Degrees of Freedom  = {df}\")\n",
    "    print(f\"t-statistic         = {t_statistic:.4f}\")\n",
    "    print(f\"t-critical (±)      = ±{t_critical:.4f} (two-tailed, alpha={alpha})\")\n",
    "    print(f\"p-value             = {p_value:.4f}\")\n",
    "\n",
    "    if p_value < alpha:\n",
    "        print(\"✅ Result: Significant difference (reject null hypothesis).\")\n",
    "    else:\n",
    "        print(\"❌ Result: No significant difference (fail to reject null hypothesis).\")\n",
    "\n",
    "    # return results\n",
    "    return t_statistic, p_value"
   ]
  },
  {
   "cell_type": "markdown",
   "metadata": {},
   "source": [
    "### Exercise 2:\n",
    "\n",
    "Use the function created in Exercise 1 to answer the following analytical questions.\n",
    "\n",
    "In a Python class, some of the students have taken online courses to improve their Python skills.\n",
    "The scores of a random sample of 20 students who underwent the online-course on a Python test are as follows: \n",
    "\n",
    "     [84.0, 92.4, 74.3, 79.4, 86.7, 75.3, 90.9, 86.1, 81.0, 85.1, \n",
    "      78.7, 73.5, 86.9, 87.4, 82.7, 81.9, 69.9, 77.2, 79.3, 83.3]\n",
    "\n",
    "The mean score of the class before the test is 65. The teacher thinks that the online training has really helped the students and now they should perform better than the class (population) mean. Use this to set your null and alternative hypotheses.\n",
    "\n",
    "1. Test to see if the sample mean is significantly different from 65 at the .05 level. Report the t- and p-values.\n",
    "2. The researcher realizes that she accidentally recorded the score that should have been 80.9 as 90.9. Are these corrected scores significantly different from 65 at the .05 level?\n",
    "\n",
    "Bonus: What is the effect size of the first sample compared to the population? How can you interpret this effect size in relation to your significance test?\n",
    "\n",
    "\n",
    "### Solution:"
   ]
  },
  {
   "cell_type": "code",
   "execution_count": 3,
   "metadata": {
    "scrolled": true
   },
   "outputs": [
    {
     "name": "stdout",
     "output_type": "stream",
     "text": [
      "\n",
      "One-sample t-test Summary:\n",
      "Sample Mean         = 81.8000\n",
      "Sample Std Dev      = 5.9217\n",
      "Population Mean     = 65\n",
      "Degrees of Freedom  = 19\n",
      "t-statistic         = 12.6876\n",
      "t-critical (±)      = ±2.0930 (two-tailed, alpha=0.05)\n",
      "p-value             = 0.0000\n",
      "✅ Result: Significant difference (reject null hypothesis).\n"
     ]
    },
    {
     "data": {
      "text/plain": [
       "(12.687592157174493, 1.0053355594452825e-10)"
      ]
     },
     "execution_count": 3,
     "metadata": {},
     "output_type": "execute_result"
    },
    {
     "data": {
      "image/png": "[encoded data removed]",
      "text/plain": [
       "<Figure size 864x360 with 1 Axes>"
      ]
     },
     "metadata": {
      "needs_background": "light"
     },
     "output_type": "display_data"
    }
   ],
   "source": [
    "sample = [84.0, 92.4, 74.3, 79.4, 86.7, 75.3, 90.9, 86.1, 81.0, 85.1, \n",
    "      78.7, 73.5, 86.9, 87.4, 82.7, 81.9, 69.9, 77.2, 79.3, 83.3]\n",
    "popmean = 65\n",
    "alpha = 0.05\n",
    "one_sample_ttest(sample, popmean, alpha)"
   ]
  },
  {
   "cell_type": "code",
   "execution_count": 4,
   "metadata": {
    "scrolled": true
   },
   "outputs": [
    {
     "name": "stdout",
     "output_type": "stream",
     "text": [
      "\n",
      "One-sample t-test Summary:\n",
      "Sample Mean         = 81.3000\n",
      "Sample Std Dev      = 5.5215\n",
      "Population Mean     = 65\n",
      "Degrees of Freedom  = 19\n",
      "t-statistic         = 13.2021\n",
      "t-critical (±)      = ±2.0930 (two-tailed, alpha=0.05)\n",
      "p-value             = 0.0000\n",
      "✅ Result: Significant difference (reject null hypothesis).\n"
     ]
    },
    {
     "data": {
      "text/plain": [
       "(13.202088288314906, 5.083361606682268e-11)"
      ]
     },
     "execution_count": 4,
     "metadata": {},
     "output_type": "execute_result"
    },
    {
     "data": {
      "image/png": "[encoded data removed]",
      "text/plain": [
       "<Figure size 864x360 with 1 Axes>"
      ]
     },
     "metadata": {
      "needs_background": "light"
     },
     "output_type": "display_data"
    }
   ],
   "source": [
    "sample = [84.0, 92.4, 74.3, 79.4, 86.7, 75.3, 80.9, 86.1, 81.0, 85.1, \n",
    "      78.7, 73.5, 86.9, 87.4, 82.7, 81.9, 69.9, 77.2, 79.3, 83.3]\n",
    "popmean = 65\n",
    "alpha = 0.05\n",
    "one_sample_ttest(sample, popmean, alpha)\n"
   ]
  },
  {
   "cell_type": "markdown",
   "metadata": {},
   "source": [
    "## Summary\n",
    "\n",
    "In this lab, you saw a quick introduction to hypothesis testing using frequentist methods with t-values and p-values. You saw how a one sample t-test can be applied to contexts where the population mean is unknown and you have a limited amount of sample data. You looked at all the stages required for such hypothesis testing with a description of steps and also, how to perform these functions in Python. The lesson also briefly explains the comparison of using p-value for statistical significance vs. effect sizes. "
   ]
  }
 ],
 "metadata": {
  "kernelspec": {
   "display_name": "learn-env",
   "language": "python",
   "name": "python3"
  },
  "language_info": {
   "codemirror_mode": {
    "name": "ipython",
    "version": 3
   },
   "file_extension": ".py",
   "mimetype": "text/x-python",
   "name": "python",
   "nbconvert_exporter": "python",
   "pygments_lexer": "ipython3",
   "version": "3.8.5"
  },
  "toc": {
   "base_numbering": 1,
   "nav_menu": {},
   "number_sections": true,
   "sideBar": true,
   "skip_h1_title": false,
   "title_cell": "Table of Contents",
   "title_sidebar": "Contents",
   "toc_cell": false,
   "toc_position": {},
   "toc_section_display": true,
   "toc_window_display": false
  }
 },
 "nbformat": 4,
 "nbformat_minor": 2
}
